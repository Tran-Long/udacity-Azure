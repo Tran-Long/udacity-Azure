{
 "cells": [
  {
   "cell_type": "markdown",
   "metadata": {},
   "source": [
    "### Install the required Python modules/SDKs "
   ]
  },
  {
   "cell_type": "code",
   "execution_count": 3,
   "metadata": {},
   "outputs": [],
   "source": [
    "! activate ai-azure-c1\n",
    "\n",
    "import sys\n",
    "\n",
    "sys.path.append(\"/opt/conda/envs/ai-azure-c1/lib/python3.8/site-packages\")"
   ]
  },
  {
   "cell_type": "markdown",
   "metadata": {},
   "source": [
    "## Import libraries"
   ]
  },
  {
   "cell_type": "code",
   "execution_count": 18,
   "metadata": {},
   "outputs": [],
   "source": [
    "import requests\n",
    "from urllib.parse import urlparse\n",
    "from io import BytesIO\n",
    "from PIL import Image, ImageDraw\n",
    "import matplotlib.pyplot as plt\n",
    "\n",
    "import os, time, uuid, glob\n",
    "\n",
    "from azure.cognitiveservices.vision.customvision.training import CustomVisionTrainingClient\n",
    "from azure.cognitiveservices.vision.customvision.prediction import CustomVisionPredictionClient\n",
    "from azure.cognitiveservices.vision.customvision.training.models import ImageFileCreateBatch, ImageFileCreateEntry, Region\n",
    "from msrest.authentication import ApiKeyCredentials\n"
   ]
  },
  {
   "cell_type": "markdown",
   "metadata": {},
   "source": [
    "## Creating Training & Prediting Client with credentials"
   ]
  },
  {
   "cell_type": "code",
   "execution_count": 5,
   "metadata": {},
   "outputs": [],
   "source": [
    "TRAINING_ENDPOINT = \"https://longthcustomvision.cognitiveservices.azure.com/\"\n",
    "training_key = \"24042cf430334292b60e0edd3809fa43\"\n",
    "training_resource_id = '/subscriptions/21c53bc7-9f96-4753-9901-99cd641ad4e7/resourceGroups/ODL-AIND-197885/providers/Microsoft.CognitiveServices/accounts/longthcustomvision'\n",
    "\n",
    "PREDICTION_ENDPOINT = 'https://longthcustomvision-prediction.cognitiveservices.azure.com/'\n",
    "prediction_key = \"cf098aaaaf7043ff92ebf339cc5cbb52\"\n",
    "prediction_resource_id = \"/subscriptions/21c53bc7-9f96-4753-9901-99cd641ad4e7/resourceGroups/ODL-AIND-197885/providers/Microsoft.CognitiveServices/accounts/longthcustomvision-Prediction\""
   ]
  },
  {
   "cell_type": "code",
   "execution_count": 7,
   "metadata": {},
   "outputs": [
    {
     "data": {
      "text/plain": [
       "'3.4-preview'"
      ]
     },
     "execution_count": 7,
     "metadata": {},
     "output_type": "execute_result"
    }
   ],
   "source": [
    "training_credentials = ApiKeyCredentials(in_headers={\"Training-key\": training_key})\n",
    "trainer = CustomVisionTrainingClient(TRAINING_ENDPOINT, training_credentials)\n",
    "trainer.api_version"
   ]
  },
  {
   "cell_type": "code",
   "execution_count": 8,
   "metadata": {},
   "outputs": [
    {
     "data": {
      "text/plain": [
       "'3.1'"
      ]
     },
     "execution_count": 8,
     "metadata": {},
     "output_type": "execute_result"
    }
   ],
   "source": [
    "prediction_credentials = ApiKeyCredentials(in_headers={\"Prediction-key\": prediction_key})\n",
    "predictor = CustomVisionPredictionClient(PREDICTION_ENDPOINT, prediction_credentials)\n",
    "predictor.api_version"
   ]
  },
  {
   "cell_type": "markdown",
   "metadata": {},
   "source": [
    "## Get project ID and iteration ID from portal"
   ]
  },
  {
   "cell_type": "code",
   "execution_count": 13,
   "metadata": {},
   "outputs": [
    {
     "name": "stdout",
     "output_type": "stream",
     "text": [
      "Project ID:  974e8f6b-e5bb-432f-ac28-cb20ef4273a6\n"
     ]
    }
   ],
   "source": [
    "project_id = trainer.get_projects()[0].id # Assume this is the only project on portal\n",
    "print(\"Project ID: \", project_id)"
   ]
  },
  {
   "cell_type": "code",
   "execution_count": 16,
   "metadata": {},
   "outputs": [],
   "source": [
    "iteration_list = trainer.get_iterations(project_id)\n",
    "chosen_iteration_id = None\n",
    "for iteration in iteration_list:\n",
    "    if iteration.name == \"Iteration 1\":\n",
    "        chosen_iteration_id = iteration.id"
   ]
  },
  {
   "cell_type": "markdown",
   "metadata": {},
   "source": [
    "## Publish api with selected training iteration"
   ]
  },
  {
   "cell_type": "code",
   "execution_count": 17,
   "metadata": {},
   "outputs": [
    {
     "name": "stdout",
     "output_type": "stream",
     "text": [
      "Done!\n"
     ]
    }
   ],
   "source": [
    "publish_iteration_name = \"lighter-detection-75\"\n",
    "trainer.publish_iteration(project_id, chosen_iteration_id, publish_iteration_name, prediction_resource_id)\n",
    "print (\"Done!\")"
   ]
  },
  {
   "cell_type": "markdown",
   "metadata": {},
   "source": [
    "## Perform prediction on test baggage images"
   ]
  },
  {
   "cell_type": "code",
   "execution_count": 30,
   "metadata": {},
   "outputs": [],
   "source": [
    "def perform_prediction(predictor, publish_iteration_name, image_folder=\"./\", threshold=0.8):\n",
    "    list_images = glob.glob(os.path.join(image_folder, '*.jpg'))\n",
    "    for image_file_path in list_images:\n",
    "        print(\"Predicting image: \", image_file_path)\n",
    "        with open(image_file_path, \"rb\") as image_contents:\n",
    "            results = predictor.detect_image(project.id, publish_iteration_name, image_contents.read())\n",
    "            # Display the results.\n",
    "            for prediction in results.predictions:\n",
    "                if prediction.probability >= threshold:\n",
    "                    print(\"\\t\" + prediction.tag_name +\n",
    "                          \": {0:.2f}%\".format(prediction.probability * 100))"
   ]
  },
  {
   "cell_type": "code",
   "execution_count": 31,
   "metadata": {},
   "outputs": [
    {
     "name": "stdout",
     "output_type": "stream",
     "text": [
      "Predicting image:  ./lighter_test_set_4of5.jpg\n",
      "\tlighter: 99.41%\n",
      "\tlighter: 88.50%\n",
      "Predicting image:  ./lighter_test_set_5of5.jpg\n",
      "\tlighter: 86.63%\n",
      "Predicting image:  ./lighter_test_set_2of5.jpg\n",
      "\tlighter: 98.83%\n",
      "\tlighter: 96.99%\n",
      "\tlighter: 93.57%\n",
      "\tlighter: 92.49%\n",
      "Predicting image:  ./lighter_test_set_3of5.jpg\n",
      "\tlighter: 98.38%\n",
      "\tlighter: 91.21%\n",
      "Predicting image:  ./lighter_test_set_1of5.jpg\n",
      "\tlighter: 99.79%\n",
      "\tlighter: 95.34%\n",
      "\tlighter: 91.43%\n"
     ]
    }
   ],
   "source": [
    "perform_prediction(predictor, publish_iteration_name)"
   ]
  },
  {
   "cell_type": "code",
   "execution_count": null,
   "metadata": {},
   "outputs": [],
   "source": []
  }
 ],
 "metadata": {
  "kernelspec": {
   "display_name": "Python 3",
   "language": "python",
   "name": "python3"
  },
  "language_info": {
   "codemirror_mode": {
    "name": "ipython",
    "version": 3
   },
   "file_extension": ".py",
   "mimetype": "text/x-python",
   "name": "python",
   "nbconvert_exporter": "python",
   "pygments_lexer": "ipython3",
   "version": "3.6.3"
  }
 },
 "nbformat": 4,
 "nbformat_minor": 2
}
